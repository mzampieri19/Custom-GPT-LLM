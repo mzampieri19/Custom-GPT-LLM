{
 "cells": [
  {
   "cell_type": "code",
   "execution_count": 46,
   "id": "10330746",
   "metadata": {},
   "outputs": [
    {
     "name": "stdout",
     "output_type": "stream",
     "text": [
      "Using device: mps\n"
     ]
    }
   ],
   "source": [
    "import torch\n",
    "import torch.nn as nn\n",
    "from torch.nn import functional as F\n",
    "device = torch.device(\"mps\" if torch.backends.mps.is_available() else \"cpu\")\n",
    "print(f\"Using device: {device}\")"
   ]
  },
  {
   "cell_type": "code",
   "execution_count": 47,
   "id": "51070969",
   "metadata": {},
   "outputs": [],
   "source": [
    "block_size = 8\n",
    "batch_size = 4\n",
    "max_iters = 1000\n",
    "learning_rate = 3e-4\n",
    "eval_iters = 250"
   ]
  },
  {
   "cell_type": "code",
   "execution_count": 48,
   "id": "2d4f9d4a",
   "metadata": {},
   "outputs": [
    {
     "name": "stdout",
     "output_type": "stream",
     "text": [
      "['\\n', ' ', '!', '(', ')', ',', '-', '.', ':', ';', '?', 'A', 'B', 'C', 'D', 'E', 'F', 'G', 'H', 'I', 'J', 'K', 'L', 'M', 'N', 'O', 'P', 'Q', 'R', 'S', 'T', 'U', 'V', 'W', 'X', 'Y', 'Z', 'a', 'b', 'c', 'd', 'e', 'f', 'g', 'h', 'i', 'j', 'k', 'l', 'm', 'n', 'o', 'p', 'q', 'r', 's', 't', 'u', 'v', 'w', 'x', 'y', 'z', '—', '‘', '’', '“', '”', '\\ufeff']\n"
     ]
    }
   ],
   "source": [
    "with open ('wizard_of_oz.txt', 'r', encoding='utf-8') as f: \n",
    "    text = f.read()\n",
    "chars = sorted(set(text))\n",
    "print(chars)\n",
    "vocab_size = len(chars)"
   ]
  },
  {
   "cell_type": "code",
   "execution_count": 49,
   "id": "3faacc7d",
   "metadata": {},
   "outputs": [
    {
     "name": "stdout",
     "output_type": "stream",
     "text": [
      "tensor([68, 13, 44, 37, 52, 56, 41, 54,  1, 19,  0, 30, 44, 41,  1, 13, 61, 39,\n",
      "        48, 51, 50, 41,  0,  0,  0, 14, 51, 54, 51, 56, 44, 61,  1, 48, 45, 58,\n",
      "        41, 40,  1, 45, 50,  1, 56, 44, 41,  1, 49, 45, 40, 55, 56,  1, 51, 42,\n",
      "         1, 56, 44, 41,  1, 43, 54, 41, 37, 56,  1, 21, 37, 50, 55, 37, 55,  1,\n",
      "        52, 54, 37, 45, 54, 45, 41, 55,  5,  1, 59, 45, 56, 44,  1, 31, 50, 39,\n",
      "        48, 41,  0, 18, 41, 50, 54, 61,  5,  1])\n"
     ]
    }
   ],
   "source": [
    "string_to_int = { c: i for i, c in enumerate(chars) }\n",
    "int_to_string = { i: c for i, c in enumerate(chars) }\n",
    "encode = lambda s: [string_to_int[c] for c in s]\n",
    "decode = lambda l: ''.join([int_to_string[i] for i in l])\n",
    "\n",
    "data = torch.tensor(encode(text), dtype=torch.long)\n",
    "print(data[:100])"
   ]
  },
  {
   "cell_type": "code",
   "execution_count": 50,
   "id": "a5800c73",
   "metadata": {},
   "outputs": [
    {
     "name": "stdout",
     "output_type": "stream",
     "text": [
      "Inputs:  tensor([[55, 37, 56,  1, 38, 41, 44, 45],\n",
      "        [56, 44,  1, 52, 51, 45, 50, 56],\n",
      "        [41,  1, 51, 42,  1, 51, 50, 41],\n",
      "        [56, 51,  1, 56, 44, 41,  1, 55]], device='mps:0')\n",
      "Targets:  tensor([[37, 56,  1, 38, 41, 44, 45, 50],\n",
      "        [44,  1, 52, 51, 45, 50, 56, 41],\n",
      "        [ 1, 51, 42,  1, 51, 50, 41,  1],\n",
      "        [51,  1, 56, 44, 41,  1, 55, 56]], device='mps:0')\n"
     ]
    }
   ],
   "source": [
    "n = int(0.8 * len(data))\n",
    "train_data = data[:n]\n",
    "val_data = data[n:]\n",
    "\n",
    "def get_batch(split):\n",
    "    data = train_data if split == 'train' else val_data\n",
    "    ix = torch.randint(len(data) - block_size, (batch_size,))\n",
    "    x = torch.stack([data[i:i + block_size] for i in ix])\n",
    "    y = torch.stack([data[i + 1:i + block_size + 1] for i in ix])\n",
    "    x, y = x.to(device), y.to(device)\n",
    "    return x, y\n",
    "\n",
    "x, y = get_batch('train')\n",
    "print(\"Inputs: \", x)\n",
    "print(\"Targets: \", y)"
   ]
  },
  {
   "cell_type": "code",
   "execution_count": 51,
   "id": "f8c123b8",
   "metadata": {},
   "outputs": [
    {
     "name": "stdout",
     "output_type": "stream",
     "text": [
      "when input is tensor([68]), the target: 13\n",
      "when input is tensor([68, 13]), the target: 44\n",
      "when input is tensor([68, 13, 44]), the target: 37\n",
      "when input is tensor([68, 13, 44, 37]), the target: 52\n",
      "when input is tensor([68, 13, 44, 37, 52]), the target: 56\n",
      "when input is tensor([68, 13, 44, 37, 52, 56]), the target: 41\n",
      "when input is tensor([68, 13, 44, 37, 52, 56, 41]), the target: 54\n",
      "when input is tensor([68, 13, 44, 37, 52, 56, 41, 54]), the target: 1\n"
     ]
    }
   ],
   "source": [
    "block_size = 8\n",
    "\n",
    "x = train_data[:block_size]\n",
    "y = train_data[1:block_size + 1]\n",
    "\n",
    "for t in range(block_size):\n",
    "    context = x[:t + 1]\n",
    "    target = y[t]\n",
    "    print(f\"when input is {context}, the target: {target}\")"
   ]
  },
  {
   "cell_type": "code",
   "execution_count": 52,
   "id": "a22bf08c",
   "metadata": {},
   "outputs": [
    {
     "name": "stdout",
     "output_type": "stream",
     "text": [
      "\n",
      "FLAzkbyHWg﻿zsVkX!J?wHkjoOAy\n",
      "﻿IE?wGdCvsmm!i(“dSGhdV\n",
      "“.X?K﻿AZn:.e,P﻿M:F)Ltk﻿;Vq.\n",
      "gUcKmz?v“FbQdt‘UwshCKm”uAh\n",
      "g;-atPT,dtX“?Ck”’—xwyZvMeVeeLL”xvPuKijJxmkJBX”FGq“XIkPXl—wxa)r?“m)Y,-pA’R‘n ujcYIdVJ‘SoGNBfCb,wZtq..\n",
      "lm-drY“X-bltB!;blSsXkkMx!Hq!X’iac(F—SjoQAosv!‘n)L”khWfshAB’zOjoR(HCT(cb:n—Vk?vMB’m!“gGCEWz,“y\n",
      "QwN?vshMPSGrX”XlZc(Bzsu(g﻿dp’yhxQQG) —nwQdorZxbQFE,DDy)rZBz\n",
      "gi’PgmflBCpXs’RVJ’(,—sG)TlE﻿Gor“dKGCs.dCZZCv“Y‘?“rUS‘AixaMt\n",
      "“—gB’RyNNV-;PrOViSEn,’MgtNkFi.UKmg).wNT!UQwNk;UKMBzcFVTa,P-RyCU)IN“HMeCAz?wZDjo\n"
     ]
    }
   ],
   "source": [
    "class BigramLanguageModel(nn.Module):\n",
    "    def __init__(self, vocab_size):\n",
    "        super().__init__()\n",
    "        self.token_embedding_table = nn.Embedding(vocab_size, vocab_size)\n",
    "\n",
    "    def forward(self, idx, targets= None):\n",
    "        logits = self.token_embedding_table(idx)\n",
    "        \n",
    "        if targets is None:\n",
    "            loss = None\n",
    "        else:\n",
    "            B, T, C = logits.shape\n",
    "            logits = logits.view(B * T, C)\n",
    "            targets = targets.view(B * T)\n",
    "            loss = F.cross_entropy(logits, targets)\n",
    "        return logits, loss\n",
    "    \n",
    "    def generate(self, idx, max_new_tokens):\n",
    "        for _ in range(max_new_tokens):\n",
    "            logits, loss = self.forward(idx)\n",
    "            logits = logits[:, -1, :]\n",
    "            probs = F.softmax(logits, dim=-1)\n",
    "            idx_next = torch.multinomial(probs, num_samples=1)\n",
    "            idx = torch.cat((idx, idx_next), dim=1)\n",
    "        return idx\n",
    "    \n",
    "model = BigramLanguageModel(vocab_size)\n",
    "m = model.to(device)\n",
    "\n",
    "context = torch.zeros((1, 1), dtype=torch.long, device=device)\n",
    "generated_chars = decode(m.generate(context, max_new_tokens=500)[0].tolist())\n",
    "print(generated_chars)"
   ]
  },
  {
   "cell_type": "code",
   "execution_count": 53,
   "id": "bea01b0a",
   "metadata": {},
   "outputs": [],
   "source": [
    "@torch.no_grad()\n",
    "def estimate_loss():\n",
    "    out = {}\n",
    "    model.eval()\n",
    "    for split in ['train', 'val']:\n",
    "        losses = torch.zeros(eval_iters)\n",
    "        for k in range(eval_iters):\n",
    "            x, y = get_batch(split)\n",
    "            logits, loss = model(x, y)\n",
    "            losses[k] = loss.item()\n",
    "        out[split] = losses.mean()\n",
    "    model.train()\n",
    "    return out"
   ]
  },
  {
   "cell_type": "code",
   "execution_count": 58,
   "id": "ad99f432",
   "metadata": {},
   "outputs": [
    {
     "name": "stdout",
     "output_type": "stream",
     "text": [
      "step: 0, train loss: 3.940, val loss: 3.986\n",
      "step: 250, train loss: 3.909, val loss: 3.907\n",
      "step: 500, train loss: 3.871, val loss: 3.879\n",
      "step: 750, train loss: 3.816, val loss: 3.809\n",
      "Iteration 999, Loss: 3.415341377258301\n"
     ]
    }
   ],
   "source": [
    "optimizer = torch.optim.AdamW(model.parameters(), lr=learning_rate)\n",
    "\n",
    "for iter in range(max_iters):\n",
    "    if iter % eval_iters == 0:\n",
    "        losses = estimate_loss()\n",
    "        print(f'step: {iter}, train loss: {losses['train']:.3f}, val loss: {losses['val']:.3f}')\n",
    "    xb, yb = get_batch('train')\n",
    "    logits, loss = model.forward(xb, yb)\n",
    "    optimizer.zero_grad(set_to_none=True)\n",
    "    loss.backward()\n",
    "    optimizer.step()\n",
    "print(f\"Iteration {iter}, Loss: {loss.item()}\")"
   ]
  },
  {
   "cell_type": "code",
   "execution_count": 55,
   "id": "a603cc92",
   "metadata": {},
   "outputs": [
    {
     "name": "stdout",
     "output_type": "stream",
     "text": [
      "\n",
      "dn:CmZhEqTBFqc’Xlu-xwZMTY.v.\n",
      "SGJ jyCWqrZnraULzIdqnL‘EXoMWvAOGjLUwVsmcK??ff)WFC﻿.LpzzjXvM“R’-SDXee HmrZdXBCfIicSaaDJEkwW-BJXYX\n",
      "tx!fdC﻿sclFYi,p-qdKT—‘nA”r?HFse.fIb!Zn\n",
      "\n",
      "gTVkbe?JFrYbe‘DBz?-n:Lt“hfsEUQgQruzMBzsmlL fuce\n",
      "nm\n",
      "q(?Eie?l(LySL ‘)r?(BCP;’QG.wzslAixzsnJZHf;K\n",
      "dB“eeR(p’iezctBzX?“Ltn:DHfEdCY—raio—rZnQgA-HkkjOdKTNn:LMF(QYSd?a wO,l;TSL”xdhwky(L‘﻿VI.”-HNunqDTVIHVf﻿G.gGYpKA”;.dqJ:FpZn—KSxG;M(B“cmxupeMgTy\n",
      "qnUQZ;BSxBz-kJZX!gK‘﻿﻿XSg\n",
      "s\n",
      "hT.gp’QA?v?HEeFwN-R(oQQ.G—;﻿Kp(pacosmm:-n!gYY)IP;ZN?f?)U”B)Om-nCfjgip\n"
     ]
    }
   ],
   "source": [
    "context = torch.zeros((1, 1), dtype=torch.long, device=device)\n",
    "generated_chars = decode(m.generate(context, max_new_tokens=500)[0].tolist())\n",
    "print(generated_chars)"
   ]
  }
 ],
 "metadata": {
  "kernelspec": {
   "display_name": ".venv",
   "language": "python",
   "name": "python3"
  },
  "language_info": {
   "codemirror_mode": {
    "name": "ipython",
    "version": 3
   },
   "file_extension": ".py",
   "mimetype": "text/x-python",
   "name": "python",
   "nbconvert_exporter": "python",
   "pygments_lexer": "ipython3",
   "version": "3.12.9"
  }
 },
 "nbformat": 4,
 "nbformat_minor": 5
}
